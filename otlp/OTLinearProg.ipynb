{
 "cells": [
  {
   "cell_type": "markdown",
   "metadata": {},
   "source": [
    "# Kantorovich Primal formulation of OT\n",
    "$$L_C(a,b) = \\min_{P\\in U(a,b)} \\sum_{i\\in [\\![n]\\!], j \\in [\\![m]\\!]} C_{i,j} P_{i,j}$$\n",
    "\n",
    "Which we can rewrite as :\n",
    "$$L_C(a,b) = \\min_{p \\in R^{nm}_{+} \\\\ Ap = \\begin{bmatrix}a \\\\ b\\end{bmatrix}} c^T p$$\n",
    "\n",
    "With :\n",
    "$$A = \\begin{bmatrix}\n",
    "        \\mathbb{1}_n^T \\otimes \\mathbb{I}_m \\\\\n",
    "        \\mathbb{I}_n \\otimes \\mathbb{1}_m^T \\\\\n",
    "      \\end{bmatrix}$$\n",
    "Which encodes :\n",
    "$$P \\mathbb{1}_n = a$$\n",
    "$$P^T \\mathbb{1}_m = b$$"
   ]
  },
  {
   "cell_type": "code",
   "execution_count": 1,
   "metadata": {},
   "outputs": [],
   "source": [
    "import matplotlib.pyplot as plt \n",
    "from sklearn.datasets import make_moons, make_circles\n",
    "from scipy.spatial import distance_matrix\n",
    "import numpy as np\n",
    "\n",
    "from cvxopt import matrix, solvers\n",
    "%matplotlib inline"
   ]
  },
  {
   "cell_type": "markdown",
   "metadata": {},
   "source": [
    "We generate two distributions of points $a$ and $b$ and compute their distances"
   ]
  },
  {
   "cell_type": "code",
   "execution_count": 2,
   "metadata": {},
   "outputs": [],
   "source": [
    "n = 25\n",
    "m = 25\n",
    "np.random.seed(42)\n",
    "moons, mclass = make_circles(max(n,m)*2, noise = 0.15, factor=0.6, random_state=42)\n",
    "#moons, mclass = make_moons(max(n,m)*2, noise = 0.15)\n",
    "\n",
    "axy = moons[mclass==0][:n]\n",
    "a = np.random.rand(n, 1)\n",
    "a = a/np.sum(a)\n",
    "\n",
    "bxy = moons[mclass==1][:m]\n",
    "b = np.random.rand(m, 1)\n",
    "b = b/np.sum(b)"
   ]
  },
  {
   "cell_type": "markdown",
   "metadata": {},
   "source": [
    "Here the distributions of point we generated\n",
    "(a point is displayed as a circle of radius $\\sqrt{w}$, so that its area $\\approx$ it's weight) :"
   ]
  },
  {
   "cell_type": "code",
   "execution_count": 3,
   "metadata": {},
   "outputs": [
    {
     "data": {
      "text/plain": [
       "<matplotlib.collections.PathCollection at 0x7f8c08a5a990>"
      ]
     },
     "execution_count": 3,
     "metadata": {},
     "output_type": "execute_result"
    },
    {
     "data": {
      "image/png": "[encoded data removed]",
      "text/plain": [
       "<Figure size 432x288 with 1 Axes>"
      ]
     },
     "metadata": {
      "needs_background": "light"
     },
     "output_type": "display_data"
    }
   ],
   "source": [
    "plt.scatter(axy[:,0], axy[:,1], s = a**(1/2)*1000, c=\"red\")\n",
    "plt.scatter(bxy[:,0], bxy[:,1], s = b**(1/2)*1000, c=\"blue\")"
   ]
  },
  {
   "cell_type": "markdown",
   "metadata": {},
   "source": [
    "We compute the distance matrix $C$ and the distance vector $c$"
   ]
  },
  {
   "cell_type": "code",
   "execution_count": 4,
   "metadata": {},
   "outputs": [],
   "source": [
    "C = distance_matrix(axy, bxy, p=2)\n",
    "C = C**2\n",
    "c = C.T.reshape(-1)\n",
    "c = matrix(c)"
   ]
  },
  {
   "cell_type": "markdown",
   "metadata": {},
   "source": [
    "We build the matrix that encode the coupling constraint \n",
    "\n",
    "We need to remove a row from $A$ and from the vector of distributions, because else the system wouldn't be free"
   ]
  },
  {
   "cell_type": "code",
   "execution_count": 5,
   "metadata": {},
   "outputs": [],
   "source": [
    "In = np.eye(n)\n",
    "Im = np.eye(m)\n",
    "Onesn = np.matrix([1] * n)\n",
    "Onesm = np.matrix([1] * m)\n",
    "A = np.concatenate([np.kron(Onesn, Im),\n",
    "                    np.kron(In, Onesm)], axis=0)\n",
    "A = matrix(A[1:])\n",
    "\n",
    "dists = np.concatenate([a[1:], b], axis=0)\n",
    "dists = matrix(dists)"
   ]
  },
  {
   "cell_type": "markdown",
   "metadata": {},
   "source": [
    "We encode the positivity of coefficients"
   ]
  },
  {
   "cell_type": "code",
   "execution_count": 6,
   "metadata": {},
   "outputs": [],
   "source": [
    "G = -np.eye(n*m)\n",
    "G = matrix(G)\n",
    "h = np.zeros((n*m,))\n",
    "h = matrix(h)"
   ]
  },
  {
   "cell_type": "markdown",
   "metadata": {},
   "source": [
    "We solve the linear programming using *cvxopt*"
   ]
  },
  {
   "cell_type": "code",
   "execution_count": 7,
   "metadata": {},
   "outputs": [
    {
     "name": "stdout",
     "output_type": "stream",
     "text": [
      "     pcost       dcost       gap    pres   dres   k/t\n",
      " 0:  1.4632e+00  1.4632e+00  2e+03  3e+01  2e+00  1e+00\n",
      " 1: -1.4659e+00 -1.4809e+00  5e+01  6e-01  4e-02  1e-02\n",
      " 2: -1.3099e-01 -1.3152e-01  2e+00  5e-02  4e-03  2e-03\n",
      " 3:  9.8618e-02  9.8629e-02  1e+00  3e-02  2e-03  1e-03\n",
      " 4:  2.6659e-01  2.6664e-01  5e-01  1e-02  9e-04  6e-04\n",
      " 5:  2.9353e-01  2.9361e-01  3e-01  7e-03  5e-04  4e-04\n",
      " 6:  3.3039e-01  3.3041e-01  6e-02  2e-03  1e-04  9e-05\n",
      " 7:  3.3597e-01  3.3598e-01  2e-02  6e-04  4e-05  3e-05\n",
      " 8:  3.3766e-01  3.3767e-01  6e-03  2e-04  1e-05  1e-05\n",
      " 9:  3.3811e-01  3.3811e-01  2e-03  7e-05  5e-06  4e-06\n",
      "10:  3.3836e-01  3.3836e-01  1e-04  4e-06  3e-07  2e-07\n",
      "11:  3.3837e-01  3.3837e-01  1e-06  4e-08  3e-09  2e-09\n",
      "12:  3.3837e-01  3.3837e-01  1e-08  4e-10  3e-11  2e-11\n",
      "Optimal solution found.\n"
     ]
    }
   ],
   "source": [
    "sols = solvers.lp(c, G, h, A, dists)"
   ]
  },
  {
   "cell_type": "code",
   "execution_count": null,
   "metadata": {},
   "outputs": [],
   "source": []
  },
  {
   "cell_type": "code",
   "execution_count": 8,
   "metadata": {},
   "outputs": [],
   "source": [
    "p = np.array(sols[\"x\"])\n",
    "#p[p < 1e-10] = 0"
   ]
  },
  {
   "cell_type": "code",
   "execution_count": 12,
   "metadata": {},
   "outputs": [
    {
     "name": "stdout",
     "output_type": "stream",
     "text": [
      "Total cost : 0.3383699950368827\n"
     ]
    }
   ],
   "source": [
    "#c = np.array(c)\n",
    "#cost = c.T.dot(p)\n",
    "cost = np.sum(np.multiply(C,P))\n",
    "print(f\"Total cost : {cost}\")"
   ]
  },
  {
   "cell_type": "code",
   "execution_count": 9,
   "metadata": {},
   "outputs": [],
   "source": [
    "P = p.reshape(m, n).T"
   ]
  },
  {
   "cell_type": "code",
   "execution_count": 11,
   "metadata": {},
   "outputs": [
    {
     "data": {
      "text/plain": [
       "<matplotlib.image.AxesImage at 0x7f8c08755bd0>"
      ]
     },
     "execution_count": 11,
     "metadata": {},
     "output_type": "execute_result"
    },
    {
     "data": {
      "image/png": "[encoded data removed]",
      "text/plain": [
       "<Figure size 432x288 with 1 Axes>"
      ]
     },
     "metadata": {
      "needs_background": "light"
     },
     "output_type": "display_data"
    }
   ],
   "source": [
    "import matplotlib.pyplot as plt\n",
    "plt.imshow(P)"
   ]
  },
  {
   "cell_type": "code",
   "execution_count": 13,
   "metadata": {},
   "outputs": [
    {
     "data": {
      "image/png": "[encoded data removed]",
      "text/plain": [
       "<Figure size 432x288 with 1 Axes>"
      ]
     },
     "metadata": {
      "needs_background": "light"
     },
     "output_type": "display_data"
    }
   ],
   "source": [
    "plt.scatter(axy[:,0], axy[:,1], s = a**(1/2)*2000, c=\"red\")\n",
    "plt.scatter(bxy[:,0], bxy[:,1], s = b**(1/2)*2000, c=\"blue\")\n",
    "maxP = np.max(P)\n",
    "for i in range(n):\n",
    "    for j in range(m):\n",
    "        plt.plot([axy[i,0], bxy[j,0]], [axy[i,1], bxy[j,1]], linewidth=P[i,j]*5/maxP, linestyle=\"-\", c=\"black\")"
   ]
  },
  {
   "cell_type": "code",
   "execution_count": 14,
   "metadata": {},
   "outputs": [
    {
     "name": "stdout",
     "output_type": "stream",
     "text": [
      "[-4.99600361e-16  4.85722573e-16 -2.35922393e-16 -6.24500451e-17\n",
      " -2.08166817e-17 -3.81639165e-17  0.00000000e+00 -1.38777878e-17\n",
      " -1.04083409e-16 -4.16333634e-17  2.16840434e-19 -5.55111512e-17\n",
      " -3.33066907e-16  2.42861287e-17 -3.46944695e-18  1.38777878e-17\n",
      "  2.77555756e-17  1.59594560e-16 -3.46944695e-17  1.73472348e-17\n",
      " -1.80411242e-16  5.20417043e-18 -1.04083409e-17 -9.71445147e-17\n",
      " -2.77555756e-17]\n",
      "[-1.38777878e-17 -3.46944695e-17  2.08166817e-17  4.16333634e-17\n",
      "  1.73472348e-18  1.24900090e-16  3.64291930e-17 -2.60208521e-18\n",
      " -1.24900090e-15 -3.60822483e-16  5.55111512e-17 -5.55111512e-17\n",
      " -5.20417043e-18  3.53883589e-16 -4.16333634e-17  1.73472348e-18\n",
      " -6.93889390e-17  1.73472348e-18 -2.91433544e-16  5.89805982e-17\n",
      " -1.38777878e-17  9.36750677e-17  0.00000000e+00  1.11022302e-16\n",
      " -6.93889390e-18]\n"
     ]
    }
   ],
   "source": [
    "print(np.sum(P, axis=1) - a.reshape(-1))\n",
    "print(np.sum(P, axis=0) - b.reshape(-1))"
   ]
  },
  {
   "cell_type": "code",
   "execution_count": 15,
   "metadata": {},
   "outputs": [],
   "source": [
    "a = a.reshape(-1)\n",
    "b = b.reshape(-1)\n",
    "fg = np.array(sols[\"y\"])\n",
    "P[np.abs(P) < 1e-10] = 0\n",
    "fg[np.abs(fg) < 1e-10] = 0\n",
    "f = np.zeros((n,))\n",
    "g = np.zeros((m,))\n",
    "\n",
    "f[1:] = -fg[:n-1].reshape(-1)\n",
    "g = -fg[n-1:].reshape(-1)"
   ]
  },
  {
   "cell_type": "code",
   "execution_count": 16,
   "metadata": {},
   "outputs": [
    {
     "data": {
      "text/plain": [
       "array([ 0.        , -0.41378972, -0.09986422,  0.11358979, -0.02310073,\n",
       "        0.61497023, -0.39524938,  0.39771436, -0.21910144,  0.306009  ,\n",
       "       -0.6113292 , -0.19599556, -0.37314231,  0.03948615,  0.34629321,\n",
       "       -0.36488925, -0.40928974, -0.20697238, -0.1392326 ,  1.1282038 ,\n",
       "       -0.56213074, -0.48303721, -0.35889657,  0.50850561, -0.10001594])"
      ]
     },
     "execution_count": 16,
     "metadata": {},
     "output_type": "execute_result"
    }
   ],
   "source": [
    "f"
   ]
  },
  {
   "cell_type": "code",
   "execution_count": 17,
   "metadata": {},
   "outputs": [
    {
     "data": {
      "text/plain": [
       "array([ 0.16057569, -0.09905565,  0.57563596,  0.55752725,  0.44183694,\n",
       "        0.74589207, -0.40782942, -0.1420905 ,  0.65007867,  0.64740837,\n",
       "        0.55124437, -0.34104316, -0.30791014,  0.40608488,  0.46185957,\n",
       "       -0.10634605,  0.0556884 , -0.43230124,  0.65955894, -0.22165968,\n",
       "        0.24677705,  0.37808443,  0.78756038,  0.42947703, -0.26230612])"
      ]
     },
     "execution_count": 17,
     "metadata": {},
     "output_type": "execute_result"
    }
   ],
   "source": [
    "g"
   ]
  },
  {
   "cell_type": "code",
   "execution_count": null,
   "metadata": {},
   "outputs": [],
   "source": []
  }
 ],
 "metadata": {
  "kernelspec": {
   "display_name": "Python 3",
   "language": "python",
   "name": "python3"
  },
  "language_info": {
   "codemirror_mode": {
    "name": "ipython",
    "version": 3
   },
   "file_extension": ".py",
   "mimetype": "text/x-python",
   "name": "python",
   "nbconvert_exporter": "python",
   "pygments_lexer": "ipython3",
   "version": "3.7.4"
  }
 },
 "nbformat": 4,
 "nbformat_minor": 2
}
